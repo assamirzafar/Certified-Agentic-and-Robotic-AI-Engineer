{
  "nbformat": 4,
  "nbformat_minor": 0,
  "metadata": {
    "colab": {
      "provenance": [],
      "authorship_tag": "ABX9TyPKEwpHZyzemKerd7IrwjgY",
      "include_colab_link": true
    },
    "kernelspec": {
      "name": "python3",
      "display_name": "Python 3"
    },
    "language_info": {
      "name": "python"
    }
  },
  "cells": [
    {
      "cell_type": "markdown",
      "metadata": {
        "id": "view-in-github",
        "colab_type": "text"
      },
      "source": [
        "<a href=\"https://colab.research.google.com/github/assamirzafar/Certified-Agentic-and-Robotic-AI-Engineer/blob/main/Guess_the_Number_(User_Guesses).ipynb\" target=\"_parent\"><img src=\"https://colab.research.google.com/assets/colab-badge.svg\" alt=\"Open In Colab\"/></a>"
      ]
    },
    {
      "cell_type": "markdown",
      "source": [
        "# Guess the Number Game\n",
        "\n",
        "This Python program allows the user to guess a randomly generated number between 1 and 100.\n"
      ],
      "metadata": {
        "id": "rlZFnLpbDtPP"
      }
    },
    {
      "cell_type": "markdown",
      "source": [
        "## Code Implementation\n",
        "\n",
        "python\n",
        "`import random`"
      ],
      "metadata": {
        "id": "Sgmo9lf0EEuw"
      }
    },
    {
      "cell_type": "code",
      "execution_count": null,
      "metadata": {
        "id": "b3FgMD3hDQQo"
      },
      "outputs": [],
      "source": [
        "import random"
      ]
    },
    {
      "cell_type": "markdown",
      "source": [
        "###Function to Generate a Random Number"
      ],
      "metadata": {
        "id": "BcxfsrBmEYVE"
      }
    },
    {
      "cell_type": "code",
      "source": [
        "def generate_number():\n",
        "    \"\"\"Generates a random number between 1 and 100.\"\"\"\n",
        "    return random.randint(1, 100)"
      ],
      "metadata": {
        "id": "z1GDKzVoDZpK"
      },
      "execution_count": null,
      "outputs": []
    },
    {
      "cell_type": "markdown",
      "source": [
        "###Function to Get User Input"
      ],
      "metadata": {
        "id": "Gz_Jnm2ZFbeL"
      }
    },
    {
      "cell_type": "code",
      "source": [
        "def get_user_guess():\n",
        "    \"\"\"Prompts the user for a guess and returns it as an integer.\"\"\"\n",
        "    return int(input(\"Enter your guess: \"))"
      ],
      "metadata": {
        "id": "tDrv1mFVDZ4f"
      },
      "execution_count": null,
      "outputs": []
    },
    {
      "cell_type": "markdown",
      "source": [
        "###Function to Provide Feedback\n"
      ],
      "metadata": {
        "id": "DDRaipj7FhOH"
      }
    },
    {
      "cell_type": "code",
      "source": [
        "def give_feedback(guess, number):\n",
        "    \"\"\"Provides feedback on whether the guess is too low, too high, or correct.\"\"\"\n",
        "    if guess < number:\n",
        "        print(\"Too low! Try again.\")\n",
        "    elif guess > number:\n",
        "        print(\"Too high! Try again.\")\n",
        "    else:\n",
        "        print(\"Congratulations! You guessed the number.\")"
      ],
      "metadata": {
        "id": "PLoiSHh5DpcU"
      },
      "execution_count": null,
      "outputs": []
    },
    {
      "cell_type": "markdown",
      "source": [
        "###Main Game Loop"
      ],
      "metadata": {
        "id": "a-B2kYnvFpRo"
      }
    },
    {
      "cell_type": "code",
      "source": [
        "def play_game():\n",
        "    \"\"\"Runs the guessing game loop.\"\"\"\n",
        "    number = generate_number()\n",
        "    guess = None\n",
        "\n",
        "    print(\"Guess a number between 1 and 100!\")\n",
        "\n",
        "    while guess != number:\n",
        "        guess = get_user_guess()\n",
        "        give_feedback(guess, number)"
      ],
      "metadata": {
        "id": "0w3UNO5-FA2H"
      },
      "execution_count": null,
      "outputs": []
    },
    {
      "cell_type": "markdown",
      "source": [
        "###Running the Game"
      ],
      "metadata": {
        "id": "_NyZZJsfFrHA"
      }
    },
    {
      "cell_type": "code",
      "source": [
        "if __name__ == \"__main__\":\n",
        "    play_game()"
      ],
      "metadata": {
        "colab": {
          "base_uri": "https://localhost:8080/"
        },
        "id": "tzVSYA2DFQ3D",
        "outputId": "3202d0d4-197f-46f6-f634-1b20490308e8"
      },
      "execution_count": null,
      "outputs": [
        {
          "output_type": "stream",
          "name": "stdout",
          "text": [
            "Guess a number between 1 and 100!\n",
            "Enter your guess: 23\n",
            "Too low! Try again.\n",
            "Enter your guess: 66\n",
            "Too high! Try again.\n",
            "Enter your guess: 44\n",
            "Too low! Try again.\n",
            "Enter your guess: 56\n",
            "Too low! Try again.\n",
            "Enter your guess: 58\n",
            "Too low! Try again.\n",
            "Enter your guess: 62\n",
            "Too high! Try again.\n",
            "Enter your guess: 60\n",
            "Too high! Try again.\n",
            "Enter your guess: 59\n",
            "Congratulations! You guessed the number.\n"
          ]
        }
      ]
    }
  ]
}