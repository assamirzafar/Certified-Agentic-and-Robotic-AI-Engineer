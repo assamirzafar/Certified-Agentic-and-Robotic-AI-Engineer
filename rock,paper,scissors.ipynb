{
  "nbformat": 4,
  "nbformat_minor": 0,
  "metadata": {
    "colab": {
      "provenance": [],
      "authorship_tag": "ABX9TyO4Kb8L4jDTr4UURjMR2HvJ",
      "include_colab_link": true
    },
    "kernelspec": {
      "name": "python3",
      "display_name": "Python 3"
    },
    "language_info": {
      "name": "python"
    }
  },
  "cells": [
    {
      "cell_type": "markdown",
      "metadata": {
        "id": "view-in-github",
        "colab_type": "text"
      },
      "source": [
        "<a href=\"https://colab.research.google.com/github/assamirzafar/Certified-Agentic-and-Robotic-AI-Engineer/blob/main/rock%2Cpaper%2Cscissors.ipynb\" target=\"_parent\"><img src=\"https://colab.research.google.com/assets/colab-badge.svg\" alt=\"Open In Colab\"/></a>"
      ]
    },
    {
      "cell_type": "markdown",
      "source": [
        "# Rock-Paper-Scissors Game\n",
        "\n",
        "This program allows the user to play **Rock-Paper-Scissors** against the computer.\n",
        "\n",
        "---\n",
        "\n",
        "### Importing Required Modules\n",
        "\n",
        "```python\n",
        "import random\n",
        "\n"
      ],
      "metadata": {
        "id": "rK9Tmbu7O4h4"
      }
    },
    {
      "cell_type": "markdown",
      "source": [
        "The `random` module is used to allow the computer to randomly select rock, paper, or scissors."
      ],
      "metadata": {
        "id": "gRj1rXNFPFG2"
      }
    },
    {
      "cell_type": "code",
      "source": [
        "import random"
      ],
      "metadata": {
        "id": "duDU_AdfPtB3"
      },
      "execution_count": null,
      "outputs": []
    },
    {
      "cell_type": "markdown",
      "source": [
        "###Defining Choices"
      ],
      "metadata": {
        "id": "B6mxuCR2PIy9"
      }
    },
    {
      "cell_type": "code",
      "execution_count": null,
      "metadata": {
        "id": "ZFl7nOIPNYLM"
      },
      "outputs": [],
      "source": [
        "choices = [\"rock\", \"paper\", \"scissors\"]\n"
      ]
    },
    {
      "cell_type": "markdown",
      "source": [
        "###Getting User Input"
      ],
      "metadata": {
        "id": "MaUrX9CcPM7D"
      }
    },
    {
      "cell_type": "code",
      "source": [
        "user_choice = input(\"Choose rock, paper, or scissors: \").lower()\n"
      ],
      "metadata": {
        "colab": {
          "base_uri": "https://localhost:8080/"
        },
        "id": "LIjXTndcPT3D",
        "outputId": "2ecb07a0-fc42-43cf-d974-5363d8f12a61"
      },
      "execution_count": null,
      "outputs": [
        {
          "name": "stdout",
          "output_type": "stream",
          "text": [
            "Choose rock, paper, or scissors: paper\n"
          ]
        }
      ]
    },
    {
      "cell_type": "markdown",
      "source": [
        "###Computer's Random Choice\n",
        "\n",
        "\n"
      ],
      "metadata": {
        "id": "RDfBY78nPV9g"
      }
    },
    {
      "cell_type": "code",
      "source": [
        "computer_choice = random.choice(choices)\n"
      ],
      "metadata": {
        "id": "EwiaXuAUPbT3"
      },
      "execution_count": null,
      "outputs": []
    },
    {
      "cell_type": "markdown",
      "source": [
        "###Displaying Computer's Choice"
      ],
      "metadata": {
        "id": "rGIvviCMPeh8"
      }
    },
    {
      "cell_type": "code",
      "source": [
        "print(f\"Computer chose: {computer_choice}\")\n"
      ],
      "metadata": {
        "colab": {
          "base_uri": "https://localhost:8080/"
        },
        "id": "RWmUfLxePfsu",
        "outputId": "b2a038cf-4e37-495e-9499-f2b4b4f5d5b6"
      },
      "execution_count": null,
      "outputs": [
        {
          "output_type": "stream",
          "name": "stdout",
          "text": [
            "Computer chose: scissors\n"
          ]
        }
      ]
    },
    {
      "cell_type": "markdown",
      "source": [
        "###Determining the Winner"
      ],
      "metadata": {
        "id": "KbQCL_ZUPi0J"
      }
    },
    {
      "cell_type": "code",
      "source": [
        "if user_choice == computer_choice:\n",
        "    print(\"It's a tie!\")\n",
        "elif (user_choice == \"rock\" and computer_choice == \"scissors\") or \\\n",
        "     (user_choice == \"scissors\" and computer_choice == \"paper\") or \\\n",
        "     (user_choice == \"paper\" and computer_choice == \"rock\"):\n",
        "    print(\"You win!\")\n",
        "else:\n",
        "    print(\"You lose!\")\n"
      ],
      "metadata": {
        "colab": {
          "base_uri": "https://localhost:8080/"
        },
        "id": "3IBSpaCyPiD_",
        "outputId": "127a72e0-30a5-499a-e630-58b9545e67bd"
      },
      "execution_count": null,
      "outputs": [
        {
          "output_type": "stream",
          "name": "stdout",
          "text": [
            "You lose!\n"
          ]
        }
      ]
    }
  ]
}