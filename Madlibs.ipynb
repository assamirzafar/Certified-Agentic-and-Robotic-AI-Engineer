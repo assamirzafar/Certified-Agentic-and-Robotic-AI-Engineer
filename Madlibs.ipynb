{
  "nbformat": 4,
  "nbformat_minor": 0,
  "metadata": {
    "colab": {
      "provenance": [],
      "authorship_tag": "ABX9TyM4l2oVNu7H/kRKDy4+bys0",
      "include_colab_link": true
    },
    "kernelspec": {
      "name": "python3",
      "display_name": "Python 3"
    },
    "language_info": {
      "name": "python"
    }
  },
  "cells": [
    {
      "cell_type": "markdown",
      "metadata": {
        "id": "view-in-github",
        "colab_type": "text"
      },
      "source": [
        "<a href=\"https://colab.research.google.com/github/assamirzafar/Certified-Agentic-and-Robotic-AI-Engineer/blob/main/Madlibs.ipynb\" target=\"_parent\"><img src=\"https://colab.research.google.com/assets/colab-badge.svg\" alt=\"Open In Colab\"/></a>"
      ]
    },
    {
      "cell_type": "code",
      "execution_count": null,
      "metadata": {
        "id": "YvbQt2IHfi-C"
      },
      "outputs": [],
      "source": [
        "from datetime import datetime"
      ]
    },
    {
      "cell_type": "markdown",
      "source": [
        "##Function for Saving user's story in his own named file\n"
      ],
      "metadata": {
        "id": "n6NSeCzAgJt7"
      }
    },
    {
      "cell_type": "code",
      "source": [
        "def print_n_save_story(story):\n",
        "    # Display the completed story\n",
        "    print(\"\\nHere's your Mad Libs story:\")\n",
        "    print('\\n',story)\n",
        "\n",
        "    # Save the story to a file\n",
        "    filename = f'{username}\\'s story.txt'\n",
        "    with open(filename, 'a+') as file:\n",
        "        current_datetime = datetime.now().strftime('%Y-%m-%d %H:%M:%S')\n",
        "        file.seek(0)\n",
        "        file.write(f'\\n\\n{current_datetime}\\n')\n",
        "        file.write(story)\n",
        "        file.write('*'*50)\n",
        "        file.write('\\n')"
      ],
      "metadata": {
        "id": "I1mpPU04gGpz"
      },
      "execution_count": null,
      "outputs": []
    },
    {
      "cell_type": "markdown",
      "source": [
        "#Main < code >\n",
        "##Taking User Input & Making Descision"
      ],
      "metadata": {
        "id": "_OmSGURGgaje"
      }
    },
    {
      "cell_type": "code",
      "source": [
        "print('Welcome to the Mad libs game!\\n')\n",
        "username = input('What is your name? ')\n",
        "print()\n",
        "print('Hello, ' + username + '!\\n')\n",
        "print('Please fill in the blanks below: \\n')\n",
        "# Collecting user inputs\n",
        "place = input(\"Enter a place: \")\n",
        "adjective = input(\"Enter an adjective: \")\n",
        "animal = input(\"Enter an animal: \")\n",
        "noun = input(\"Enter a noun: \")\n",
        "verb = input(\"Enter a verb: \")\n",
        "emotion = input(\"Enter an emotion (e.g., laugh, cry): \")\n",
        "past_verb = input(\"Enter a past-tense verb: \")\n",
        "adjective2 = input(\"Enter another adjective: \")\n",
        "\n",
        "\n",
        "print()\n",
        "option = input('Which story do u want to choose? \\n1. Story 1\\n2. Story 2\\n3. Story 3\\n')\n",
        "if option == '1':\n",
        "    story1 = f\"\"\"\n",
        "    Today, I went to the {place}. I saw a {adjective} {animal} jumping over a {noun}.\n",
        "    It {verb} loudly, making everyone {emotion}. Then, I {past_verb} back home, thinking about the {adjective2} day I had.\n",
        "    \"\"\"\n",
        "    print_n_save_story(story1)\n",
        "elif option == '2':\n",
        "    story2 = f\"\"\"\n",
        "    Yesterday, I went to the {place} and saw a {adjective} {animal}.\n",
        "    It was sitting on a {noun} and {verb} loudly. Everyone around was so {emotion}.\n",
        "    I {past_verb} away as quickly as I could, but it was truly a {adjective2} sight!\n",
        "    \"\"\"\n",
        "    print_n_save_story(story2)\n",
        "elif option == '3':\n",
        "    story3 = f\"\"\"\n",
        "    At the {place}, a {adjective} {animal} was seen balancing on a {noun}.\n",
        "    It suddenly decided to {verb}, which made the crowd {emotion}.\n",
        "    I {past_verb} to capture the moment—it was a {adjective2} experience!\n",
        "    \"\"\"\n",
        "    print_n_save_story(story3)\n"
      ],
      "metadata": {
        "colab": {
          "base_uri": "https://localhost:8080/"
        },
        "id": "Keh-fWg0gWhD",
        "outputId": "b2438fa8-c293-4c3c-d4f2-8f9dffd81aee"
      },
      "execution_count": null,
      "outputs": [
        {
          "output_type": "stream",
          "name": "stdout",
          "text": [
            "Welcome to the Mad libs game!\n",
            "\n",
            "What is your name? Assamir Zafar\n",
            "\n",
            "Hello, Assamir Zafar!\n",
            "\n",
            "Please fill in the blanks below: \n",
            "\n",
            "Enter a place: Safari\n",
            "Enter an adjective: good\n",
            "Enter an animal: lion\n",
            "Enter a noun: star\n",
            "Enter a verb: runninh\n",
            "Enter an emotion (e.g., laugh, cry): angry\n",
            "Enter a past-tense verb: went\n",
            "Enter another adjective: beautiful\n",
            "\n",
            "Which story do u want to choose? \n",
            "1. Story 1\n",
            "2. Story 2\n",
            "3. Story 3\n",
            "2\n",
            "\n",
            "Here's your Mad Libs story:\n",
            "\n",
            " \n",
            "    Yesterday, I went to the Safari and saw a good lion. \n",
            "    It was sitting on a star and runninh loudly. Everyone around was so angry. \n",
            "    I went away as quickly as I could, but it was truly a beautiful sight!\n",
            "    \n"
          ]
        }
      ]
    }
  ]
}