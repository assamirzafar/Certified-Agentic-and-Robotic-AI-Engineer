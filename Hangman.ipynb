{
  "nbformat": 4,
  "nbformat_minor": 0,
  "metadata": {
    "colab": {
      "provenance": [],
      "authorship_tag": "ABX9TyMO1HwoTw/fnQb3PTNp8ocm",
      "include_colab_link": true
    },
    "kernelspec": {
      "name": "python3",
      "display_name": "Python 3"
    },
    "language_info": {
      "name": "python"
    }
  },
  "cells": [
    {
      "cell_type": "markdown",
      "metadata": {
        "id": "view-in-github",
        "colab_type": "text"
      },
      "source": [
        "<a href=\"https://colab.research.google.com/github/assamirzafar/Certified-Agentic-and-Robotic-AI-Engineer/blob/main/Hangman.ipynb\" target=\"_parent\"><img src=\"https://colab.research.google.com/assets/colab-badge.svg\" alt=\"Open In Colab\"/></a>"
      ]
    },
    {
      "cell_type": "markdown",
      "source": [
        "# Hangman Game\n",
        "\n",
        "This program lets the user play a simple **Hangman** game by guessing letters in a randomly chosen word.\n",
        "\n",
        "---\n",
        "\n",
        "### Importing Required Module\n",
        "\n",
        "```python\n",
        "import random\n"
      ],
      "metadata": {
        "id": "OerGP2PQRRGB"
      }
    },
    {
      "cell_type": "code",
      "source": [
        "import random"
      ],
      "metadata": {
        "id": "cL439hAkSHx3"
      },
      "execution_count": null,
      "outputs": []
    },
    {
      "cell_type": "markdown",
      "source": [
        "###Initializing Game Variables"
      ],
      "metadata": {
        "id": "4PR3M1fjRcCV"
      }
    },
    {
      "cell_type": "code",
      "execution_count": null,
      "metadata": {
        "id": "B2UJyhHbRPbp"
      },
      "outputs": [],
      "source": [
        "words = [\"python\", \"hangman\", \"programming\", \"developer\"]\n",
        "word = random.choice(words)\n",
        "guessed = [\"_\"] * len(word)\n",
        "attempts = 6\n"
      ]
    },
    {
      "cell_type": "markdown",
      "source": [
        "###Displaying Initial Word State"
      ],
      "metadata": {
        "id": "FEqb4EqBRfgS"
      }
    },
    {
      "cell_type": "code",
      "source": [
        "print(\" \".join(guessed))\n"
      ],
      "metadata": {
        "colab": {
          "base_uri": "https://localhost:8080/"
        },
        "id": "KYZ37is7Roee",
        "outputId": "afe4169d-ff06-4ac2-e945-fc3746293d9b"
      },
      "execution_count": null,
      "outputs": [
        {
          "output_type": "stream",
          "name": "stdout",
          "text": [
            "_ _ _ _ _ _ _ _ _\n"
          ]
        }
      ]
    },
    {
      "cell_type": "markdown",
      "source": [
        "###Game Loop"
      ],
      "metadata": {
        "id": "Kp2ibr5BRsbU"
      }
    },
    {
      "cell_type": "code",
      "source": [
        "while attempts > 0 and \"_\" in guessed:\n",
        "    letter = input(\"Guess a letter: \").lower()\n",
        "\n",
        "    if letter in word:\n",
        "        for i, char in enumerate(word):\n",
        "            if char == letter:\n",
        "                guessed[i] = letter\n",
        "    else:\n",
        "        attempts -= 1\n",
        "        print(f\"Wrong! Attempts left: {attempts}\")\n",
        "\n",
        "    print(\" \".join(guessed))\n"
      ],
      "metadata": {
        "colab": {
          "base_uri": "https://localhost:8080/"
        },
        "id": "ryv219AyRvtB",
        "outputId": "4db16cb6-45fd-483d-aacf-e1b095ff8210"
      },
      "execution_count": null,
      "outputs": [
        {
          "output_type": "stream",
          "name": "stdout",
          "text": [
            "Guess a letter: a\n",
            "Wrong! Attempts left: 5\n",
            "_ _ _ _ _ _ _ _ _\n",
            "Guess a letter: u\n",
            "Wrong! Attempts left: 4\n",
            "_ _ _ _ _ _ _ _ _\n",
            "Guess a letter: e\n",
            "_ e _ e _ _ _ e _\n",
            "Guess a letter: d\n",
            "d e _ e _ _ _ e _\n",
            "Guess a letter: l\n",
            "d e _ e l _ _ e _\n",
            "Guess a letter: r\n",
            "d e _ e l _ _ e r\n",
            "Guess a letter: g\n",
            "Wrong! Attempts left: 3\n",
            "d e _ e l _ _ e r\n",
            "Guess a letter: l\n",
            "d e _ e l _ _ e r\n",
            "Guess a letter: j\n",
            "Wrong! Attempts left: 2\n",
            "d e _ e l _ _ e r\n",
            "Guess a letter: v\n",
            "d e v e l _ _ e r\n",
            "Guess a letter: o\n",
            "d e v e l o _ e r\n",
            "Guess a letter: p\n",
            "d e v e l o p e r\n"
          ]
        }
      ]
    },
    {
      "cell_type": "markdown",
      "source": [
        "###Checking Win or Loss"
      ],
      "metadata": {
        "id": "QsHJZE3LRyWj"
      }
    },
    {
      "cell_type": "code",
      "source": [
        "if \"_\" not in guessed:\n",
        "    print(\"You won!\")\n",
        "else:\n",
        "    print(f\"You lost! The word was {word}.\")\n"
      ],
      "metadata": {
        "colab": {
          "base_uri": "https://localhost:8080/"
        },
        "id": "i-rFa0EvR1i7",
        "outputId": "f874e924-02af-4310-e307-78d330361099"
      },
      "execution_count": null,
      "outputs": [
        {
          "output_type": "stream",
          "name": "stdout",
          "text": [
            "You won!\n"
          ]
        }
      ]
    }
  ]
}