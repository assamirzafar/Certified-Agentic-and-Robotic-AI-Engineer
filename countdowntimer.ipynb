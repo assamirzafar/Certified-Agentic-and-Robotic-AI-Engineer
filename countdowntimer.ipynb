{
  "nbformat": 4,
  "nbformat_minor": 0,
  "metadata": {
    "colab": {
      "provenance": [],
      "authorship_tag": "ABX9TyOyHoriI5p/EIlEMmVVIRXf",
      "include_colab_link": true
    },
    "kernelspec": {
      "name": "python3",
      "display_name": "Python 3"
    },
    "language_info": {
      "name": "python"
    }
  },
  "cells": [
    {
      "cell_type": "markdown",
      "metadata": {
        "id": "view-in-github",
        "colab_type": "text"
      },
      "source": [
        "<a href=\"https://colab.research.google.com/github/assamirzafar/Certified-Agentic-and-Robotic-AI-Engineer/blob/main/countdowntimer.ipynb\" target=\"_parent\"><img src=\"https://colab.research.google.com/assets/colab-badge.svg\" alt=\"Open In Colab\"/></a>"
      ]
    },
    {
      "cell_type": "markdown",
      "source": [
        " Import the `time` module"
      ],
      "metadata": {
        "id": "u9UEKmpICEcN"
      }
    },
    {
      "cell_type": "code",
      "execution_count": null,
      "metadata": {
        "id": "u39JPwphBhlo"
      },
      "outputs": [],
      "source": [
        "import time"
      ]
    },
    {
      "cell_type": "markdown",
      "source": [
        "Get the duration from the user:"
      ],
      "metadata": {
        "id": "RwUrczoLCQiE"
      }
    },
    {
      "cell_type": "code",
      "source": [
        "duration = int(input(\"Enter the duration in seconds: \"))"
      ],
      "metadata": {
        "colab": {
          "base_uri": "https://localhost:8080/"
        },
        "id": "U5CWMqFUCcwB",
        "outputId": "25d97fe7-89ae-47ba-b231-011357e174f3"
      },
      "execution_count": null,
      "outputs": [
        {
          "name": "stdout",
          "output_type": "stream",
          "text": [
            "Enter the duration in seconds: 10\n"
          ]
        }
      ]
    },
    {
      "cell_type": "markdown",
      "source": [
        "The countdown loop:"
      ],
      "metadata": {
        "id": "vSlUnCBMDICk"
      }
    },
    {
      "cell_type": "code",
      "source": [
        "for remaining_time in range(duration, 0, -1):\n",
        "    minutes, seconds = divmod(remaining_time, 60)\n",
        "    print(f\"\\rTime remaining: {minutes:02d}:{seconds:02d}\", end=\"\", flush=True)\n",
        "    time.sleep(1)\n",
        "print(\"\\nTime's up!\")"
      ],
      "metadata": {
        "colab": {
          "base_uri": "https://localhost:8080/"
        },
        "id": "U68JVhkqDQrK",
        "outputId": "8c70662a-2f51-43c3-cd1f-3a9f4c806ca9"
      },
      "execution_count": null,
      "outputs": [
        {
          "output_type": "stream",
          "name": "stdout",
          "text": [
            "Time remaining: 00:01\n",
            "Time's up!\n"
          ]
        }
      ]
    }
  ]
}