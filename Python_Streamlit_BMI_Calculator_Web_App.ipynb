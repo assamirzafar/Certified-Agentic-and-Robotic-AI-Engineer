{
  "nbformat": 4,
  "nbformat_minor": 0,
  "metadata": {
    "colab": {
      "provenance": [],
      "authorship_tag": "ABX9TyOVD0ljiU3U8iVnXh0D3l/4",
      "include_colab_link": true
    },
    "kernelspec": {
      "name": "python3",
      "display_name": "Python 3"
    },
    "language_info": {
      "name": "python"
    }
  },
  "cells": [
    {
      "cell_type": "markdown",
      "metadata": {
        "id": "view-in-github",
        "colab_type": "text"
      },
      "source": [
        "<a href=\"https://colab.research.google.com/github/assamirzafar/Certified-Agentic-and-Robotic-AI-Engineer/blob/main/Python_Streamlit_BMI_Calculator_Web_App.ipynb\" target=\"_parent\"><img src=\"https://colab.research.google.com/assets/colab-badge.svg\" alt=\"Open In Colab\"/></a>"
      ]
    },
    {
      "cell_type": "code",
      "execution_count": null,
      "metadata": {
        "id": "xKvsj6oMmzPy",
        "colab": {
          "base_uri": "https://localhost:8080/"
        },
        "outputId": "33d35bab-be86-4e43-aa46-85b572264317"
      },
      "outputs": [
        {
          "output_type": "stream",
          "name": "stdout",
          "text": [
            "Requirement already satisfied: streamlit in /usr/local/lib/python3.11/dist-packages (1.42.2)\n",
            "Requirement already satisfied: altair<6,>=4.0 in /usr/local/lib/python3.11/dist-packages (from streamlit) (5.5.0)\n",
            "Requirement already satisfied: blinker<2,>=1.0.0 in /usr/local/lib/python3.11/dist-packages (from streamlit) (1.9.0)\n",
            "Requirement already satisfied: cachetools<6,>=4.0 in /usr/local/lib/python3.11/dist-packages (from streamlit) (5.5.2)\n",
            "Requirement already satisfied: click<9,>=7.0 in /usr/local/lib/python3.11/dist-packages (from streamlit) (8.1.8)\n",
            "Requirement already satisfied: numpy<3,>=1.23 in /usr/local/lib/python3.11/dist-packages (from streamlit) (1.26.4)\n",
            "Requirement already satisfied: packaging<25,>=20 in /usr/local/lib/python3.11/dist-packages (from streamlit) (24.2)\n",
            "Requirement already satisfied: pandas<3,>=1.4.0 in /usr/local/lib/python3.11/dist-packages (from streamlit) (2.2.2)\n",
            "Requirement already satisfied: pillow<12,>=7.1.0 in /usr/local/lib/python3.11/dist-packages (from streamlit) (11.1.0)\n",
            "Requirement already satisfied: protobuf<6,>=3.20 in /usr/local/lib/python3.11/dist-packages (from streamlit) (4.25.6)\n",
            "Requirement already satisfied: pyarrow>=7.0 in /usr/local/lib/python3.11/dist-packages (from streamlit) (18.1.0)\n",
            "Requirement already satisfied: requests<3,>=2.27 in /usr/local/lib/python3.11/dist-packages (from streamlit) (2.32.3)\n",
            "Requirement already satisfied: rich<14,>=10.14.0 in /usr/local/lib/python3.11/dist-packages (from streamlit) (13.9.4)\n",
            "Requirement already satisfied: tenacity<10,>=8.1.0 in /usr/local/lib/python3.11/dist-packages (from streamlit) (9.0.0)\n",
            "Requirement already satisfied: toml<2,>=0.10.1 in /usr/local/lib/python3.11/dist-packages (from streamlit) (0.10.2)\n",
            "Requirement already satisfied: typing-extensions<5,>=4.4.0 in /usr/local/lib/python3.11/dist-packages (from streamlit) (4.12.2)\n",
            "Requirement already satisfied: watchdog<7,>=2.1.5 in /usr/local/lib/python3.11/dist-packages (from streamlit) (6.0.0)\n",
            "Requirement already satisfied: gitpython!=3.1.19,<4,>=3.0.7 in /usr/local/lib/python3.11/dist-packages (from streamlit) (3.1.44)\n",
            "Requirement already satisfied: pydeck<1,>=0.8.0b4 in /usr/local/lib/python3.11/dist-packages (from streamlit) (0.9.1)\n",
            "Requirement already satisfied: tornado<7,>=6.0.3 in /usr/local/lib/python3.11/dist-packages (from streamlit) (6.4.2)\n",
            "Requirement already satisfied: jinja2 in /usr/local/lib/python3.11/dist-packages (from altair<6,>=4.0->streamlit) (3.1.5)\n",
            "Requirement already satisfied: jsonschema>=3.0 in /usr/local/lib/python3.11/dist-packages (from altair<6,>=4.0->streamlit) (4.23.0)\n",
            "Requirement already satisfied: narwhals>=1.14.2 in /usr/local/lib/python3.11/dist-packages (from altair<6,>=4.0->streamlit) (1.28.0)\n",
            "Requirement already satisfied: gitdb<5,>=4.0.1 in /usr/local/lib/python3.11/dist-packages (from gitpython!=3.1.19,<4,>=3.0.7->streamlit) (4.0.12)\n",
            "Requirement already satisfied: python-dateutil>=2.8.2 in /usr/local/lib/python3.11/dist-packages (from pandas<3,>=1.4.0->streamlit) (2.8.2)\n",
            "Requirement already satisfied: pytz>=2020.1 in /usr/local/lib/python3.11/dist-packages (from pandas<3,>=1.4.0->streamlit) (2025.1)\n",
            "Requirement already satisfied: tzdata>=2022.7 in /usr/local/lib/python3.11/dist-packages (from pandas<3,>=1.4.0->streamlit) (2025.1)\n",
            "Requirement already satisfied: charset-normalizer<4,>=2 in /usr/local/lib/python3.11/dist-packages (from requests<3,>=2.27->streamlit) (3.4.1)\n",
            "Requirement already satisfied: idna<4,>=2.5 in /usr/local/lib/python3.11/dist-packages (from requests<3,>=2.27->streamlit) (3.10)\n",
            "Requirement already satisfied: urllib3<3,>=1.21.1 in /usr/local/lib/python3.11/dist-packages (from requests<3,>=2.27->streamlit) (2.3.0)\n",
            "Requirement already satisfied: certifi>=2017.4.17 in /usr/local/lib/python3.11/dist-packages (from requests<3,>=2.27->streamlit) (2025.1.31)\n",
            "Requirement already satisfied: markdown-it-py>=2.2.0 in /usr/local/lib/python3.11/dist-packages (from rich<14,>=10.14.0->streamlit) (3.0.0)\n",
            "Requirement already satisfied: pygments<3.0.0,>=2.13.0 in /usr/local/lib/python3.11/dist-packages (from rich<14,>=10.14.0->streamlit) (2.18.0)\n",
            "Requirement already satisfied: smmap<6,>=3.0.1 in /usr/local/lib/python3.11/dist-packages (from gitdb<5,>=4.0.1->gitpython!=3.1.19,<4,>=3.0.7->streamlit) (5.0.2)\n",
            "Requirement already satisfied: MarkupSafe>=2.0 in /usr/local/lib/python3.11/dist-packages (from jinja2->altair<6,>=4.0->streamlit) (3.0.2)\n",
            "Requirement already satisfied: attrs>=22.2.0 in /usr/local/lib/python3.11/dist-packages (from jsonschema>=3.0->altair<6,>=4.0->streamlit) (25.1.0)\n",
            "Requirement already satisfied: jsonschema-specifications>=2023.03.6 in /usr/local/lib/python3.11/dist-packages (from jsonschema>=3.0->altair<6,>=4.0->streamlit) (2024.10.1)\n",
            "Requirement already satisfied: referencing>=0.28.4 in /usr/local/lib/python3.11/dist-packages (from jsonschema>=3.0->altair<6,>=4.0->streamlit) (0.36.2)\n",
            "Requirement already satisfied: rpds-py>=0.7.1 in /usr/local/lib/python3.11/dist-packages (from jsonschema>=3.0->altair<6,>=4.0->streamlit) (0.23.1)\n",
            "Requirement already satisfied: mdurl~=0.1 in /usr/local/lib/python3.11/dist-packages (from markdown-it-py>=2.2.0->rich<14,>=10.14.0->streamlit) (0.1.2)\n",
            "Requirement already satisfied: six>=1.5 in /usr/local/lib/python3.11/dist-packages (from python-dateutil>=2.8.2->pandas<3,>=1.4.0->streamlit) (1.17.0)\n"
          ]
        }
      ],
      "source": [
        "!pip install streamlit"
      ]
    },
    {
      "cell_type": "code",
      "source": [
        "!pip install pyngrok"
      ],
      "metadata": {
        "id": "jvJ4tCUznjB0",
        "colab": {
          "base_uri": "https://localhost:8080/"
        },
        "outputId": "92d42d5a-f2a6-4e8d-ef64-61f9a8718061"
      },
      "execution_count": null,
      "outputs": [
        {
          "output_type": "stream",
          "name": "stdout",
          "text": [
            "Requirement already satisfied: pyngrok in /usr/local/lib/python3.11/dist-packages (7.2.3)\n",
            "Requirement already satisfied: PyYAML>=5.1 in /usr/local/lib/python3.11/dist-packages (from pyngrok) (6.0.2)\n"
          ]
        }
      ]
    },
    {
      "cell_type": "code",
      "source": [
        "\n",
        "\n",
        "\n",
        "# Write the Streamlit app code to a file\n",
        "%%writefile bmi_calculator.py\n",
        "import streamlit as st\n",
        "import pandas as pd\n",
        "import numpy as np\n",
        "\n",
        "# Set page configuration\n",
        "st.set_page_config(\n",
        "    page_title=\"BMI Calculator\",\n",
        "    page_icon=\"🏋️\",\n",
        "    layout=\"centered\"\n",
        ")\n",
        "\n",
        "# Title and description\n",
        "st.title(\"BMI Calculator\")\n",
        "st.markdown(\"Calculate your Body Mass Index (BMI) to assess your weight relative to your height.\")\n",
        "\n",
        "# Create two columns for input\n",
        "col1, col2 = st.columns(2)\n",
        "\n",
        "with col1:\n",
        "    # Height input with unit selection\n",
        "    height_unit = st.selectbox(\"Height Unit\", [\"cm\", \"feet/inches\"])\n",
        "\n",
        "    if height_unit == \"cm\":\n",
        "        height = st.number_input(\"Height (cm)\", min_value=50.0, max_value=250.0, value=170.0, step=0.1)\n",
        "        height_m = height / 100\n",
        "    else:\n",
        "        height_feet = st.number_input(\"Height (feet)\", min_value=1, max_value=8, value=5, step=1)\n",
        "        height_inches = st.number_input(\"Height (inches)\", min_value=0, max_value=11, value=6, step=1)\n",
        "        height_m = (height_feet * 30.48 + height_inches * 2.54) / 100\n",
        "\n",
        "with col2:\n",
        "    # Weight input with unit selection\n",
        "    weight_unit = st.selectbox(\"Weight Unit\", [\"kg\", \"lbs\"])\n",
        "\n",
        "    if weight_unit == \"kg\":\n",
        "        weight = st.number_input(\"Weight (kg)\", min_value=20.0, max_value=300.0, value=70.0, step=0.1)\n",
        "    else:\n",
        "        weight_lbs = st.number_input(\"Weight (lbs)\", min_value=40.0, max_value=660.0, value=154.0, step=0.1)\n",
        "        weight = weight_lbs * 0.45359237\n",
        "\n",
        "# Calculate BMI\n",
        "bmi = weight / (height_m ** 2)\n",
        "\n",
        "# Display BMI when button is clicked\n",
        "if st.button(\"Calculate BMI\"):\n",
        "    st.subheader(f\"Your BMI: {bmi:.2f}\")\n",
        "\n",
        "    # BMI categories\n",
        "    if bmi < 18.5:\n",
        "        category = \"Underweight\"\n",
        "        color = \"blue\"\n",
        "    elif 18.5 <= bmi < 25:\n",
        "        category = \"Normal weight\"\n",
        "        color = \"green\"\n",
        "    elif 25 <= bmi < 30:\n",
        "        category = \"Overweight\"\n",
        "        color = \"orange\"\n",
        "    else:\n",
        "        category = \"Obese\"\n",
        "        color = \"red\"\n",
        "\n",
        "    st.markdown(f\"**Category:** <span style='color:{color}'>{category}</span>\", unsafe_allow_html=True)\n",
        "\n",
        "    # Display a BMI chart\n",
        "    st.subheader(\"BMI Categories\")\n",
        "    categories = pd.DataFrame({\n",
        "        'Category': ['Underweight', 'Normal weight', 'Overweight', 'Obese'],\n",
        "        'BMI Range': ['< 18.5', '18.5 - 24.9', '25 - 29.9', '≥ 30'],\n",
        "        'Health Risk': ['Malnutrition risk', 'Low risk', 'Moderate risk', 'High risk']\n",
        "    })\n",
        "    st.table(categories)\n",
        "\n",
        "\n"
      ],
      "metadata": {
        "id": "i3tqMEw0nj35",
        "colab": {
          "base_uri": "https://localhost:8080/"
        },
        "outputId": "edf4f67e-5895-4b84-ac60-641d533646d8"
      },
      "execution_count": null,
      "outputs": [
        {
          "output_type": "stream",
          "name": "stdout",
          "text": [
            "Overwriting bmi_calculator.py\n"
          ]
        }
      ]
    },
    {
      "cell_type": "code",
      "source": [
        "from google.colab import userdata\n",
        "pyngrok_token = userdata.get('pyngrok_authtoken')"
      ],
      "metadata": {
        "id": "XVZyNPuJuaGp"
      },
      "execution_count": null,
      "outputs": []
    },
    {
      "cell_type": "code",
      "source": [
        "from pyngrok import ngrok\n",
        "!ngrok authtoken {pyngrok_token}"
      ],
      "metadata": {
        "colab": {
          "base_uri": "https://localhost:8080/"
        },
        "id": "ltdNY9iApUjS",
        "outputId": "4014e89a-10ec-4eaa-f836-bf3e9c9a7a6e"
      },
      "execution_count": null,
      "outputs": [
        {
          "output_type": "stream",
          "name": "stdout",
          "text": [
            "Authtoken saved to configuration file: /root/.config/ngrok/ngrok.yml\n"
          ]
        }
      ]
    },
    {
      "cell_type": "code",
      "source": [
        "!streamlit run bmi_calculator.py&>/dev/null&"
      ],
      "metadata": {
        "id": "fd1VqEC-unwQ"
      },
      "execution_count": null,
      "outputs": []
    },
    {
      "cell_type": "code",
      "source": [
        "!pgrep streamlit"
      ],
      "metadata": {
        "colab": {
          "base_uri": "https://localhost:8080/"
        },
        "id": "jO3UTH5tvEcw",
        "outputId": "bb744115-17fd-4be5-fc6a-14a99a0d8f86"
      },
      "execution_count": null,
      "outputs": [
        {
          "output_type": "stream",
          "name": "stdout",
          "text": [
            "5454\n",
            "8071\n",
            "8112\n"
          ]
        }
      ]
    },
    {
      "cell_type": "code",
      "source": [
        "public_url = ngrok.connect(8501)"
      ],
      "metadata": {
        "id": "ozODYCpqusTp"
      },
      "execution_count": null,
      "outputs": []
    },
    {
      "cell_type": "code",
      "source": [
        "public_url"
      ],
      "metadata": {
        "colab": {
          "base_uri": "https://localhost:8080/"
        },
        "id": "4jmIdBgXvwWL",
        "outputId": "e9b6d056-5a02-4d93-aee0-ce111ef0b8bc"
      },
      "execution_count": null,
      "outputs": [
        {
          "output_type": "execute_result",
          "data": {
            "text/plain": [
              "<NgrokTunnel: \"https://d9c8-34-75-9-3.ngrok-free.app\" -> \"http://localhost:8501\">"
            ]
          },
          "metadata": {},
          "execution_count": 20
        }
      ]
    }
  ]
}