{
  "nbformat": 4,
  "nbformat_minor": 0,
  "metadata": {
    "colab": {
      "provenance": [],
      "authorship_tag": "ABX9TyPi7s+IXB/kAgBie6sZB0gZ",
      "include_colab_link": true
    },
    "kernelspec": {
      "name": "python3",
      "display_name": "Python 3"
    },
    "language_info": {
      "name": "python"
    }
  },
  "cells": [
    {
      "cell_type": "markdown",
      "metadata": {
        "id": "view-in-github",
        "colab_type": "text"
      },
      "source": [
        "<a href=\"https://colab.research.google.com/github/assamirzafar/Certified-Agentic-and-Robotic-AI-Engineer/blob/main/Project_2_Guess_the_Number_(Computer_Guesses).ipynb\" target=\"_parent\"><img src=\"https://colab.research.google.com/assets/colab-badge.svg\" alt=\"Open In Colab\"/></a>"
      ]
    },
    {
      "cell_type": "markdown",
      "source": [
        "# Number Guessing Game (Binary Search)\n",
        "\n",
        "This program attempts to guess a number that the user thinks of, using the binary search strategy.\n",
        "\n",
        "---\n",
        "\n",
        "### Importing Required Modules\n",
        "\n",
        "No external modules are required for this program.\n",
        "\n",
        "---\n",
        "\n",
        "### Initializing Variables\n",
        "\n",
        "```python\n",
        "low, high = 1, 100\n",
        "feedback = \"\"\n"
      ],
      "metadata": {
        "id": "hx9t8hYqH1oq"
      }
    },
    {
      "cell_type": "code",
      "source": [
        "low, high = 1, 100\n",
        "feedback = \"\""
      ],
      "metadata": {
        "id": "Uk3Dm2eUKrky"
      },
      "execution_count": null,
      "outputs": []
    },
    {
      "cell_type": "markdown",
      "source": [
        "`low` and `high` define the range of numbers (1 to 100).\n",
        "\n",
        "\n",
        "`feedback` is an empty string to store user input."
      ],
      "metadata": {
        "id": "fJfw73QOIVqD"
      }
    },
    {
      "cell_type": "markdown",
      "source": [
        "###Display Instructions\n",
        "\n",
        "\n"
      ],
      "metadata": {
        "id": "D80Tka8cJIMe"
      }
    },
    {
      "cell_type": "code",
      "source": [
        "print(\"Think of a number between 1 and 100, and I'll try to guess it!\")\n"
      ],
      "metadata": {
        "colab": {
          "base_uri": "https://localhost:8080/"
        },
        "id": "2V07zXITIP16",
        "outputId": "c24e4eb0-7831-4497-8ddc-90ae635190b0"
      },
      "execution_count": null,
      "outputs": [
        {
          "output_type": "stream",
          "name": "stdout",
          "text": [
            "Think of a number between 1 and 100, and I'll try to guess it!\n"
          ]
        }
      ]
    },
    {
      "cell_type": "markdown",
      "source": [
        "###Implementing the Guessing Loop"
      ],
      "metadata": {
        "id": "iiY15UYeJPgp"
      }
    },
    {
      "cell_type": "code",
      "source": [
        "while feedback != \"c\":\n",
        "    guess = (low + high) // 2\n",
        "    feedback = input(f\"Is {guess} too high (h), too low (l), or correct (c)? \").lower()\n",
        "    if feedback == \"h\":\n",
        "      high = guess - 1\n",
        "    elif feedback == \"l\":\n",
        "      low = guess + 1\n",
        "    elif feedback == \"c\":\n",
        "      break\n",
        "    else:\n",
        "      print(\"Invalid input. Please enter 'h', 'l', or 'c'.\")\n",
        "print(\"Yay! I guessed your number correctly!\")\n",
        "\n",
        "\n"
      ],
      "metadata": {
        "colab": {
          "base_uri": "https://localhost:8080/"
        },
        "id": "_aGl3worJSEA",
        "outputId": "2676e6c4-e1f2-4d3b-8db0-3133eefa6900"
      },
      "execution_count": null,
      "outputs": [
        {
          "output_type": "stream",
          "name": "stdout",
          "text": [
            "Is 84 too high (h), too low (l), or correct (c)? h\n",
            "Is 82 too high (h), too low (l), or correct (c)? j\n",
            "Invalid input. Please enter 'h', 'l', or 'c'.\n",
            "Is 82 too high (h), too low (l), or correct (c)? c\n",
            "Yay! I guessed your number correctly!\n"
          ]
        }
      ]
    }
  ]
}